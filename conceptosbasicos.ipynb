{
  "nbformat": 4,
  "nbformat_minor": 0,
  "metadata": {
    "colab": {
      "name": "conceptosbasicos",
      "provenance": [],
      "authorship_tag": "ABX9TyMP1cNNz5sHMRpXKCZyovsa",
      "include_colab_link": true
    },
    "kernelspec": {
      "name": "python3",
      "display_name": "Python 3"
    },
    "language_info": {
      "name": "python"
    }
  },
  "cells": [
    {
      "cell_type": "markdown",
      "metadata": {
        "id": "view-in-github",
        "colab_type": "text"
      },
      "source": [
        "<a href=\"https://colab.research.google.com/github/jjlopezre/Analitica-de-datos/blob/main/conceptosbasicos.ipynb\" target=\"_parent\"><img src=\"https://colab.research.google.com/assets/colab-badge.svg\" alt=\"Open In Colab\"/></a>"
      ]
    },
    {
      "cell_type": "markdown",
      "metadata": {
        "id": "I4EES1WSHV-0"
      },
      "source": [
        "## Conceptos básicos en ciencia de datos y pre procesamiento\n",
        "\n",
        "Según lo discutido en el material de apoyo ´ introducción al aprendizaje de máquina ´ , discuta las principales ventajas y desventajas del aprendizaje estadístico vs. aprendizaje por reglas impuestas\n",
        "\n",
        "### Aprendizaje por reglas impuestas\n",
        "Es un aprendizaje sencillo de implementar desde el punto de vista de la programación básica ya que con herramientas que nos validen unas reglas propuestas para el funcionamiento del programa que se este diseñando; pero a la hora de analizar o de optimizar nuestro programa fácilmente puede fallar por la cantidad de reglas y de aspectos que se deben tener en cuenta a la hora de resolver un problema por medio de un programa, entonces fácilmente podemos pasar por alto situaciones que pueden dañar el programa lo cual en el area de la análitica de datos no es lo más óptimo para trabajar.\n",
        "\n",
        "### Aprendizaje estadístico\n",
        "El aprendizaje estadístico es una metodología óptima para trabajar ya que el programa se desenvuelve por medio de una función matemática que analiza los datos ingresados y a partir de ellos tomar decisiones y se acomoda a las características de los mismos lo cual es una ventaja para que nuestro programa se ejecute de manera eficaz y se el error más pequeño posible.\n",
        "\n",
        "### ¿Cuáles son las tareas básicas del aprendizaje de máquina?. Realice un cuadro comparativo indicando el dominio y rango de la función de aprendizaje a encontrar en cada caso\n",
        "\n",
        "Analizar los datos de entrada por medio de una función matemática que se adapta al tipo de datos ingresados para entrenarse por medio de un algoritmo de aprendizaje y tomar las decisiones más óptimas para dar solución a un problema. Esto se da por medio del aprendizaje estadístico para la detección, predicción y toma de decisiones.\n",
        "\n",
        "#### Con supervisión humana\n",
        "- clasificación \n",
        "Etiqueta(nominal): membresía de grupo para tareas de clasificación\n",
        "debe contener instancia, atributo y característica \n",
        "\n",
        "- Regresión: Se mantiene el mismo concepto que en clasificación cambiando el tipo de variable etiqueta por variable continua.\n",
        "\n",
        "#### Sin supervisión humana\n",
        "\n",
        "- Agrupamiento: Se buscan grupos a partir de las relaciones entre las instancias (regularidades entre datos)\n",
        "\n",
        "- Reducción de dimensión: Se buscan preservar relaciones de alta dimensión (espacio original de instancias) en un espacio de baja dimensión.\n",
        "\n",
        "- Detección de anómalos: la nueva instancia sigue las regularidades encontradas en el espacio de entrenamiento.\n",
        "\n",
        "#### Semi supervisado\n",
        "- Algunas instancias poseen etiqueta (con supervisión humana) pero la mayoría son sin supervisión humana.\n",
        "\n",
        "#### Aprendizaje por refuerzo\n",
        "- El sistema (agente), observa el ambiente y toma decisiones, recompensas o penalizaciones, a partir de las cuales debe tomar la mejor estrategia (política)."
      ]
    }
  ]
}